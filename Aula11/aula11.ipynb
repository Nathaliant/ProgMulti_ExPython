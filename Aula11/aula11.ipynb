{
 "cells": [
  {
   "cell_type": "markdown",
   "metadata": {},
   "source": [
    "Escreva uma função que retorne o menor de dois números dados se ambos os números forem pares, mas retorna o maior se um dos dois for ímpar"
   ]
  },
  {
   "cell_type": "code",
   "execution_count": 1,
   "metadata": {},
   "outputs": [
    {
     "name": "stdout",
     "output_type": "stream",
     "text": [
      "4\n",
      "7\n"
     ]
    }
   ],
   "source": [
    "def menor_de_dois_pares(n1,n2):\n",
    "    if n1%2==0 and n2%2==0:\n",
    "        if n1<n2:\n",
    "            return n1\n",
    "        else:\n",
    "            return n2\n",
    "    else:\n",
    "        if n1>n2:\n",
    "            return n1\n",
    "        else:\n",
    "            return n2\n",
    "print(menor_de_dois_pares(4,6))\n",
    "print(menor_de_dois_pares(4,7))"
   ]
  },
  {
   "cell_type": "markdown",
   "metadata": {},
   "source": [
    "8 Figuras: Crie a seguinte hierarquia de classes de figuras geométricas. Veja na figura\n",
    "as fórmulas:\n",
    "a. A classe abstrata Figura deve ter o método abstrato area.\n",
    "b. A classe concreta Circulo é subclasse de Figura.\n",
    "c. A classe abstrata Poligono é subclasse de Figura e deve ter os atributos base e\n",
    "altura .\n",
    "d. As classes concretas Triangulo, Losango, Retangulo e Quadrado são subclasses\n",
    "de Poligono. Tente criar mais uma generalização aqui olhando as fórmulas da área.\n",
    "e. Os polígonos Retangulo e Quadrado devem implementar a interface Diagonal,\n",
    "que deve ter um método que calcula a diagonal.\n",
    "f. Crie uma classe Geometria com uma lista de Figuras com pelo menos uma\n",
    "figura de cada e imprima suas áreas, perímetros e diagonais."
   ]
  },
  {
   "cell_type": "code",
   "execution_count": 16,
   "metadata": {},
   "outputs": [
    {
     "name": "stdout",
     "output_type": "stream",
     "text": [
      "3.141592653589793\n",
      "3.141592653589793\n",
      "25.0\n",
      "16\n",
      "5.656854249492381\n"
     ]
    }
   ],
   "source": [
    "# self se refere ao proprio objeto\n",
    " \n",
    "class Figura:\n",
    "    def area(self):\n",
    "        raise NotImplementedError(\"A classe figura nao pode ser instanciada\")\n",
    "        \n",
    "import math      \n",
    "class Circulo(Figura):\n",
    "    PI=math.pi\n",
    "    \n",
    "    def __init__(self, raio):\n",
    "        self.raio=raio\n",
    "        \n",
    "    def area(self):\n",
    "        return self.PI*self.raio**2\n",
    "        \n",
    "c= Circulo(1)\n",
    "print(c.area())\n",
    "\n",
    "\n",
    "class Poligono(Figura):\n",
    "    def __init__(self, base, altura):\n",
    "        self.base=base\n",
    "        self.altura=altura\n",
    "\n",
    "p=Poligono(5,7)\n",
    "print(c.area())\n",
    "\n",
    "class Triangulo(Poligono):\n",
    "    def __init__(self, base, altura):\n",
    "        Poligono.__init__(self,base,altura)\n",
    "        \n",
    "    def area(self):\n",
    "        return (self.base*self.altura)/2\n",
    "\n",
    "t=Triangulo(10,5)\n",
    "print(t.area())\n",
    "\n",
    "class Quadrado(Poligono, Diagonal):\n",
    "    def __init__(self, lado):\n",
    "        Poligono.__init__(self,lado,lado)\n",
    "        \n",
    "    def area(self):\n",
    "        return (self.base*self.altura)\n",
    "    \n",
    "    def diagonal(self):\n",
    "        return self.base*  math.sqrt(2)      \n",
    "    \n",
    "    \n",
    "q=Quadrado(4)\n",
    "print(q.area())\n",
    "\n",
    "class Diagonal:\n",
    "    def diagonal(self):\n",
    "        raise NotImplementedError(\"A classe figura nao pode ser instanciada\")        \n",
    "\n",
    "print(q.diagonal())        "
   ]
  },
  {
   "cell_type": "code",
   "execution_count": null,
   "metadata": {},
   "outputs": [],
   "source": []
  }
 ],
 "metadata": {
  "kernelspec": {
   "display_name": "Python 3",
   "language": "python",
   "name": "python3"
  },
  "language_info": {
   "codemirror_mode": {
    "name": "ipython",
    "version": 3
   },
   "file_extension": ".py",
   "mimetype": "text/x-python",
   "name": "python",
   "nbconvert_exporter": "python",
   "pygments_lexer": "ipython3",
   "version": "3.6.6"
  }
 },
 "nbformat": 4,
 "nbformat_minor": 2
}
