{
 "cells": [
  {
   "cell_type": "markdown",
   "metadata": {},
   "source": [
    "Aluno: Antonio Sergio Ferreira Bonato\n",
    "RA: 9312980"
   ]
  },
  {
   "cell_type": "markdown",
   "metadata": {},
   "source": [
    "4 Faça um Programa que leia três números e mostre-os em ordem decrescente."
   ]
  },
  {
   "cell_type": "code",
   "execution_count": 1,
   "metadata": {},
   "outputs": [
    {
     "name": "stdout",
     "output_type": "stream",
     "text": [
      "3 2 1\n",
      "3 2 1\n",
      "3 2 1\n",
      "3 2 1\n",
      "3 2 1\n",
      "3 2 1\n"
     ]
    }
   ],
   "source": [
    "##testa todas as opções possíveis de entradas\n",
    "lista = [(1,2,3), (1,3,2), (2,1,3), (2,3,1), (3,1,2), (3,2,1)]\n",
    "\n",
    "for n1,n2,n3 in lista:\n",
    "    if n1 > n2 and n1 > n3:\n",
    "        if n2 > n3:\n",
    "            print(f'{n1} {n2} {n3}')\n",
    "        else:\n",
    "            print(f'{n1} {n3} {n2}')\n",
    "    elif n2 > n1 and n2 > n3:\n",
    "        if n1 > n3:\n",
    "            print(f'{n2} {n1} {n3}')\n",
    "        else:\n",
    "            print(f'{n2} {n3} {n1}')\n",
    "    else:\n",
    "        if n1 > n2:\n",
    "            print(f'{n3} {n1} {n2}')\n",
    "        else:\n",
    "            print(f'{n3} {n2} {n1}')"
   ]
  },
  {
   "cell_type": "markdown",
   "metadata": {},
   "source": [
    "19 Faça um programa que calcule o fatorial de um número inteiro fornecido pelo usuário. Ex.: 5!=5.4.3.2.1=120"
   ]
  },
  {
   "cell_type": "code",
   "execution_count": 4,
   "metadata": {},
   "outputs": [
    {
     "name": "stdout",
     "output_type": "stream",
     "text": [
      "120\n"
     ]
    }
   ],
   "source": [
    "n = 5\n",
    "fatorial = 1\n",
    "i = 1\n",
    "while i <= n:\n",
    "    fatorial *= i\n",
    "    i += 1\n",
    "print(fatorial)"
   ]
  },
  {
   "cell_type": "markdown",
   "metadata": {},
   "source": [
    "25 Faça um programa que mostre os n termos da Série a seguir:\n",
    "S = 1/1 + 2/3 + 3/5 + 4/7 + 5/9 + ... + n/m.\n",
    "Imprima no final a soma da série."
   ]
  },
  {
   "cell_type": "code",
   "execution_count": 12,
   "metadata": {},
   "outputs": [
    {
     "name": "stdout",
     "output_type": "stream",
     "text": [
      "6.066627765079777\n"
     ]
    }
   ],
   "source": [
    "n=10\n",
    "num = 1\n",
    "den = 1\n",
    "soma = 0\n",
    "while num <= n:\n",
    "    soma += num/den\n",
    "    num += 1\n",
    "    den += 2\n",
    "print(soma)\n",
    "    "
   ]
  },
  {
   "cell_type": "code",
   "execution_count": 22,
   "metadata": {},
   "outputs": [
    {
     "name": "stdout",
     "output_type": "stream",
     "text": [
      "6.066627765079777\n"
     ]
    }
   ],
   "source": [
    "n=10\n",
    "num = range(1,n+1)\n",
    "den = range(1,2*(n),2)\n",
    "fracao = zip(num,den)\n",
    "soma = 0\n",
    "\n",
    "for i,j in fracao:\n",
    "    soma += i/j\n",
    "print(soma)    "
   ]
  },
  {
   "cell_type": "code",
   "execution_count": 24,
   "metadata": {},
   "outputs": [
    {
     "name": "stdout",
     "output_type": "stream",
     "text": [
      "6.066627765079777\n"
     ]
    }
   ],
   "source": [
    "n = 10\n",
    "soma = 0\n",
    "for i,j in zip(range(1,n+1),range(1,2*(n),2)):\n",
    "    soma += i/j\n",
    "print(soma)\n"
   ]
  },
  {
   "cell_type": "code",
   "execution_count": null,
   "metadata": {},
   "outputs": [],
   "source": []
  }
 ],
 "metadata": {
  "kernelspec": {
   "display_name": "Python 3",
   "language": "python",
   "name": "python3"
  },
  "language_info": {
   "codemirror_mode": {
    "name": "ipython",
    "version": 3
   },
   "file_extension": ".py",
   "mimetype": "text/x-python",
   "name": "python",
   "nbconvert_exporter": "python",
   "pygments_lexer": "ipython3",
   "version": "3.6.4"
  }
 },
 "nbformat": 4,
 "nbformat_minor": 2
}
